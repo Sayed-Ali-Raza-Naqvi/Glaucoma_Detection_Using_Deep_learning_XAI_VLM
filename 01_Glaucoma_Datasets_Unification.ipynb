{
  "nbformat": 4,
  "nbformat_minor": 0,
  "metadata": {
    "colab": {
      "provenance": []
    },
    "kernelspec": {
      "name": "python3",
      "display_name": "Python 3"
    },
    "language_info": {
      "name": "python"
    }
  },
  "cells": [
    {
      "cell_type": "code",
      "execution_count": 1,
      "metadata": {
        "id": "y7q6KfVBRsFG"
      },
      "outputs": [],
      "source": [
        "import os\n",
        "import shutil\n",
        "import pandas as pd\n",
        "import zipfile\n",
        "from google.colab import drive"
      ]
    },
    {
      "cell_type": "code",
      "source": [
        "drive.mount('/content/drive')"
      ],
      "metadata": {
        "id": "OT0Lf5SkYReC",
        "colab": {
          "base_uri": "https://localhost:8080/"
        },
        "outputId": "57ea2279-bcff-4535-ec65-98a80487d87e"
      },
      "execution_count": 2,
      "outputs": [
        {
          "output_type": "stream",
          "name": "stdout",
          "text": [
            "Mounted at /content/drive\n"
          ]
        }
      ]
    },
    {
      "cell_type": "code",
      "source": [
        "base_path = \"/content\"\n",
        "drive_path = \"/content/drive/MyDrive/GlaucomaProject\""
      ],
      "metadata": {
        "id": "jhP90gXxSGBx"
      },
      "execution_count": 3,
      "outputs": []
    },
    {
      "cell_type": "code",
      "source": [
        "os.makedirs(drive_path, exist_ok=True)"
      ],
      "metadata": {
        "id": "JYeJr9CaSIE5"
      },
      "execution_count": 4,
      "outputs": []
    },
    {
      "cell_type": "code",
      "source": [
        "zip_files = [\n",
        "    \"DRISHTI.zip\",\n",
        "    \"RIMONE.zip\",\n",
        "    \"ACRIMA.zip\",\n",
        "    \"REFUGE_preprocessed.zip\",\n",
        "    \"EyePACS.zip\"\n",
        "]"
      ],
      "metadata": {
        "id": "E2sosjChSsVt"
      },
      "execution_count": 5,
      "outputs": []
    },
    {
      "cell_type": "code",
      "source": [
        "for zip_file in zip_files:\n",
        "    zip_path = os.path.join(base_path, zip_file)\n",
        "    with zipfile.ZipFile(zip_path, 'r') as zip_ref:\n",
        "        zip_ref.extractall(base_path)\n",
        "    print(f\"✅ Unzipped: {zip_file}\")"
      ],
      "metadata": {
        "id": "GgdhlRHTSxlI",
        "colab": {
          "base_uri": "https://localhost:8080/"
        },
        "outputId": "d035ad30-5e84-4d1a-f465-8316e6ebb6f3"
      },
      "execution_count": 6,
      "outputs": [
        {
          "output_type": "stream",
          "name": "stdout",
          "text": [
            "✅ Unzipped: DRISHTI.zip\n",
            "✅ Unzipped: RIMONE.zip\n",
            "✅ Unzipped: ACRIMA.zip\n",
            "✅ Unzipped: REFUGE_preprocessed.zip\n",
            "✅ Unzipped: EyePACS.zip\n"
          ]
        }
      ]
    },
    {
      "cell_type": "code",
      "source": [
        "output_dir = os.path.join(base_path, \"unified_dataset\")\n",
        "os.makedirs(os.path.join(output_dir, \"images\"), exist_ok=True)"
      ],
      "metadata": {
        "id": "L9ELvEYGSzhl"
      },
      "execution_count": 7,
      "outputs": []
    },
    {
      "cell_type": "code",
      "source": [
        "metadata = []"
      ],
      "metadata": {
        "id": "zJUxKrkMS48J"
      },
      "execution_count": 8,
      "outputs": []
    },
    {
      "cell_type": "code",
      "source": [
        "def copy_images(dataset_name, base_path, class_map):\n",
        "    for class_name, label in class_map.items():\n",
        "        path = os.path.join(base_path, class_name)\n",
        "        if not os.path.exists(path):\n",
        "            continue\n",
        "        for fname in os.listdir(path):\n",
        "            if not fname.lower().endswith((\".jpg\", \".jpeg\", \".png\")):\n",
        "                continue\n",
        "            src_path = os.path.join(path, fname)\n",
        "            new_name = f\"{dataset_name}_{fname}\"\n",
        "            dst_path = os.path.join(output_dir, \"images\", new_name)\n",
        "            shutil.copy(src_path, dst_path)\n",
        "            metadata.append({\"image_path\": f\"images/{new_name}\", \"label\": label, \"dataset\": dataset_name})"
      ],
      "metadata": {
        "id": "e1u_VOsaS1dG"
      },
      "execution_count": 9,
      "outputs": []
    },
    {
      "cell_type": "code",
      "source": [
        "copy_images(\"DRISHTI\", os.path.join(base_path, \"DRISHTI/Train/Images\"), {\"Glaucoma\": 1, \"Normal\": 0})\n",
        "copy_images(\"DRISHTI\", os.path.join(base_path, \"DRISHTI/Test\"), {\"Glaucoma\": 1, \"Normal\": 0})"
      ],
      "metadata": {
        "id": "-PZolalbS3k3"
      },
      "execution_count": 10,
      "outputs": []
    },
    {
      "cell_type": "code",
      "source": [
        "copy_images(\"RIMONE\", os.path.join(base_path, \"RIMONE/Train\"), {\"Glaucoma\": 1, \"Normal\": 0})\n",
        "copy_images(\"RIMONE\", os.path.join(base_path, \"RIMONE/Test\"), {\"Glaucoma\": 1, \"Normal\": 0})"
      ],
      "metadata": {
        "id": "owNHZIeYTBrK"
      },
      "execution_count": 11,
      "outputs": []
    },
    {
      "cell_type": "code",
      "source": [
        "copy_images(\"ACRIMA\", os.path.join(base_path, \"ACRIMA/Train\"), {\"Glaucoma\": 1, \"Normal\": 0})\n",
        "copy_images(\"ACRIMA\", os.path.join(base_path, \"ACRIMA/Test\"), {\"Glaucoma\": 1, \"Normal\": 0})"
      ],
      "metadata": {
        "id": "42Ht41cKTDQ_"
      },
      "execution_count": 12,
      "outputs": []
    },
    {
      "cell_type": "code",
      "source": [
        "copy_images(\"REFUGE\", os.path.join(base_path, \"REFUGE/Train\"), {\"Glaucoma\": 1, \"Normal\": 0})"
      ],
      "metadata": {
        "id": "C0SK_BRiTE1F"
      },
      "execution_count": 13,
      "outputs": []
    },
    {
      "cell_type": "code",
      "source": [
        "for split in [\"train\", \"test\", \"validation\"]:\n",
        "    split_path = os.path.join(base_path, f\"eyepac-light-v2-512-jpg/{split}\")\n",
        "    copy_images(\"EYEPACS\", split_path, {\"RG\": 1, \"NRG\": 0})"
      ],
      "metadata": {
        "id": "qOQ20XL0THS6"
      },
      "execution_count": 14,
      "outputs": []
    },
    {
      "cell_type": "code",
      "source": [
        "labels_csv = os.path.join(output_dir, \"labels.csv\")\n",
        "df = pd.DataFrame(metadata)\n",
        "df.to_csv(labels_csv, index=False)\n",
        "print(f\"✅ Unified dataset created: {len(df)} images from {df['dataset'].nunique()} datasets\")"
      ],
      "metadata": {
        "id": "5gWUK7MiTI1X",
        "colab": {
          "base_uri": "https://localhost:8080/"
        },
        "outputId": "1313211d-b4a9-4b87-b18e-6790eded26a7"
      },
      "execution_count": 15,
      "outputs": [
        {
          "output_type": "stream",
          "name": "stdout",
          "text": [
            "✅ Unified dataset created: 11580 images from 5 datasets\n"
          ]
        }
      ]
    },
    {
      "cell_type": "code",
      "source": [
        "shutil.make_archive(\"unified_dataset\", 'zip', output_dir)"
      ],
      "metadata": {
        "id": "6cyAjgzqTLEO",
        "colab": {
          "base_uri": "https://localhost:8080/",
          "height": 36
        },
        "outputId": "c0676880-f520-4195-a464-461ed4f969b7"
      },
      "execution_count": 16,
      "outputs": [
        {
          "output_type": "execute_result",
          "data": {
            "text/plain": [
              "'/content/unified_dataset.zip'"
            ],
            "application/vnd.google.colaboratory.intrinsic+json": {
              "type": "string"
            }
          },
          "metadata": {},
          "execution_count": 16
        }
      ]
    },
    {
      "cell_type": "code",
      "source": [
        "shutil.move(\"unified_dataset.zip\", os.path.join(drive_path, \"unified_dataset.zip\"))\n",
        "print(f\"✅ Unified dataset zipped and moved to Drive: {drive_path}\")"
      ],
      "metadata": {
        "id": "-WCLiuKMTMd7",
        "colab": {
          "base_uri": "https://localhost:8080/"
        },
        "outputId": "997c2bc3-5aac-4d99-aa0c-502bbdc806c3"
      },
      "execution_count": 17,
      "outputs": [
        {
          "output_type": "stream",
          "name": "stdout",
          "text": [
            "✅ Unified dataset zipped and moved to Drive: /content/drive/MyDrive/GlaucomaProject\n"
          ]
        }
      ]
    }
  ]
}