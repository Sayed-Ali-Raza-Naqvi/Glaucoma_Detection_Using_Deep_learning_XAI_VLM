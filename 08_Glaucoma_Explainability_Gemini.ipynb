{
  "cells": [
    {
      "cell_type": "code",
      "execution_count": null,
      "metadata": {
        "colab": {
          "base_uri": "https://localhost:8080/"
        },
        "collapsed": true,
        "id": "5aOgI2j_t_N8",
        "outputId": "c6557cf9-f765-496b-ae2f-18d188674eb2"
      },
      "outputs": [
        {
          "name": "stdout",
          "output_type": "stream",
          "text": [
            "Requirement already satisfied: google-generativeai in /usr/local/lib/python3.11/dist-packages (0.8.5)\n",
            "Requirement already satisfied: pillow in /usr/local/lib/python3.11/dist-packages (11.3.0)\n",
            "Requirement already satisfied: google-ai-generativelanguage==0.6.15 in /usr/local/lib/python3.11/dist-packages (from google-generativeai) (0.6.15)\n",
            "Requirement already satisfied: google-api-core in /usr/local/lib/python3.11/dist-packages (from google-generativeai) (2.25.1)\n",
            "Requirement already satisfied: google-api-python-client in /usr/local/lib/python3.11/dist-packages (from google-generativeai) (2.177.0)\n",
            "Requirement already satisfied: google-auth>=2.15.0 in /usr/local/lib/python3.11/dist-packages (from google-generativeai) (2.38.0)\n",
            "Requirement already satisfied: protobuf in /usr/local/lib/python3.11/dist-packages (from google-generativeai) (5.29.5)\n",
            "Requirement already satisfied: pydantic in /usr/local/lib/python3.11/dist-packages (from google-generativeai) (2.11.7)\n",
            "Requirement already satisfied: tqdm in /usr/local/lib/python3.11/dist-packages (from google-generativeai) (4.67.1)\n",
            "Requirement already satisfied: typing-extensions in /usr/local/lib/python3.11/dist-packages (from google-generativeai) (4.14.1)\n",
            "Requirement already satisfied: proto-plus<2.0.0dev,>=1.22.3 in /usr/local/lib/python3.11/dist-packages (from google-ai-generativelanguage==0.6.15->google-generativeai) (1.26.1)\n",
            "Requirement already satisfied: googleapis-common-protos<2.0.0,>=1.56.2 in /usr/local/lib/python3.11/dist-packages (from google-api-core->google-generativeai) (1.70.0)\n",
            "Requirement already satisfied: requests<3.0.0,>=2.18.0 in /usr/local/lib/python3.11/dist-packages (from google-api-core->google-generativeai) (2.32.3)\n",
            "Requirement already satisfied: cachetools<6.0,>=2.0.0 in /usr/local/lib/python3.11/dist-packages (from google-auth>=2.15.0->google-generativeai) (5.5.2)\n",
            "Requirement already satisfied: pyasn1-modules>=0.2.1 in /usr/local/lib/python3.11/dist-packages (from google-auth>=2.15.0->google-generativeai) (0.4.2)\n",
            "Requirement already satisfied: rsa<5,>=3.1.4 in /usr/local/lib/python3.11/dist-packages (from google-auth>=2.15.0->google-generativeai) (4.9.1)\n",
            "Requirement already satisfied: httplib2<1.0.0,>=0.19.0 in /usr/local/lib/python3.11/dist-packages (from google-api-python-client->google-generativeai) (0.22.0)\n",
            "Requirement already satisfied: google-auth-httplib2<1.0.0,>=0.2.0 in /usr/local/lib/python3.11/dist-packages (from google-api-python-client->google-generativeai) (0.2.0)\n",
            "Requirement already satisfied: uritemplate<5,>=3.0.1 in /usr/local/lib/python3.11/dist-packages (from google-api-python-client->google-generativeai) (4.2.0)\n",
            "Requirement already satisfied: annotated-types>=0.6.0 in /usr/local/lib/python3.11/dist-packages (from pydantic->google-generativeai) (0.7.0)\n",
            "Requirement already satisfied: pydantic-core==2.33.2 in /usr/local/lib/python3.11/dist-packages (from pydantic->google-generativeai) (2.33.2)\n",
            "Requirement already satisfied: typing-inspection>=0.4.0 in /usr/local/lib/python3.11/dist-packages (from pydantic->google-generativeai) (0.4.1)\n",
            "Requirement already satisfied: grpcio<2.0.0,>=1.33.2 in /usr/local/lib/python3.11/dist-packages (from google-api-core[grpc]!=2.0.*,!=2.1.*,!=2.10.*,!=2.2.*,!=2.3.*,!=2.4.*,!=2.5.*,!=2.6.*,!=2.7.*,!=2.8.*,!=2.9.*,<3.0.0dev,>=1.34.1->google-ai-generativelanguage==0.6.15->google-generativeai) (1.74.0)\n",
            "Requirement already satisfied: grpcio-status<2.0.0,>=1.33.2 in /usr/local/lib/python3.11/dist-packages (from google-api-core[grpc]!=2.0.*,!=2.1.*,!=2.10.*,!=2.2.*,!=2.3.*,!=2.4.*,!=2.5.*,!=2.6.*,!=2.7.*,!=2.8.*,!=2.9.*,<3.0.0dev,>=1.34.1->google-ai-generativelanguage==0.6.15->google-generativeai) (1.71.2)\n",
            "Requirement already satisfied: pyparsing!=3.0.0,!=3.0.1,!=3.0.2,!=3.0.3,<4,>=2.4.2 in /usr/local/lib/python3.11/dist-packages (from httplib2<1.0.0,>=0.19.0->google-api-python-client->google-generativeai) (3.2.3)\n",
            "Requirement already satisfied: pyasn1<0.7.0,>=0.6.1 in /usr/local/lib/python3.11/dist-packages (from pyasn1-modules>=0.2.1->google-auth>=2.15.0->google-generativeai) (0.6.1)\n",
            "Requirement already satisfied: charset-normalizer<4,>=2 in /usr/local/lib/python3.11/dist-packages (from requests<3.0.0,>=2.18.0->google-api-core->google-generativeai) (3.4.2)\n",
            "Requirement already satisfied: idna<4,>=2.5 in /usr/local/lib/python3.11/dist-packages (from requests<3.0.0,>=2.18.0->google-api-core->google-generativeai) (3.10)\n",
            "Requirement already satisfied: urllib3<3,>=1.21.1 in /usr/local/lib/python3.11/dist-packages (from requests<3.0.0,>=2.18.0->google-api-core->google-generativeai) (2.5.0)\n",
            "Requirement already satisfied: certifi>=2017.4.17 in /usr/local/lib/python3.11/dist-packages (from requests<3.0.0,>=2.18.0->google-api-core->google-generativeai) (2025.7.14)\n"
          ]
        }
      ],
      "source": [
        "!pip install --upgrade google-generativeai pillow"
      ]
    },
    {
      "cell_type": "code",
      "execution_count": null,
      "metadata": {
        "colab": {
          "base_uri": "https://localhost:8080/"
        },
        "collapsed": true,
        "id": "A4z1BND_vPe1",
        "outputId": "16100746-ecbd-4fad-bd1a-8f4ed290004d"
      },
      "outputs": [
        {
          "name": "stdout",
          "output_type": "stream",
          "text": [
            "Requirement already satisfied: google-generativeai in /usr/local/lib/python3.11/dist-packages (0.8.5)\n",
            "Requirement already satisfied: google-ai-generativelanguage==0.6.15 in /usr/local/lib/python3.11/dist-packages (from google-generativeai) (0.6.15)\n",
            "Requirement already satisfied: google-api-core in /usr/local/lib/python3.11/dist-packages (from google-generativeai) (2.25.1)\n",
            "Requirement already satisfied: google-api-python-client in /usr/local/lib/python3.11/dist-packages (from google-generativeai) (2.177.0)\n",
            "Requirement already satisfied: google-auth>=2.15.0 in /usr/local/lib/python3.11/dist-packages (from google-generativeai) (2.38.0)\n",
            "Requirement already satisfied: protobuf in /usr/local/lib/python3.11/dist-packages (from google-generativeai) (5.29.5)\n",
            "Requirement already satisfied: pydantic in /usr/local/lib/python3.11/dist-packages (from google-generativeai) (2.11.7)\n",
            "Requirement already satisfied: tqdm in /usr/local/lib/python3.11/dist-packages (from google-generativeai) (4.67.1)\n",
            "Requirement already satisfied: typing-extensions in /usr/local/lib/python3.11/dist-packages (from google-generativeai) (4.14.1)\n",
            "Requirement already satisfied: proto-plus<2.0.0dev,>=1.22.3 in /usr/local/lib/python3.11/dist-packages (from google-ai-generativelanguage==0.6.15->google-generativeai) (1.26.1)\n",
            "Requirement already satisfied: googleapis-common-protos<2.0.0,>=1.56.2 in /usr/local/lib/python3.11/dist-packages (from google-api-core->google-generativeai) (1.70.0)\n",
            "Requirement already satisfied: requests<3.0.0,>=2.18.0 in /usr/local/lib/python3.11/dist-packages (from google-api-core->google-generativeai) (2.32.3)\n",
            "Requirement already satisfied: cachetools<6.0,>=2.0.0 in /usr/local/lib/python3.11/dist-packages (from google-auth>=2.15.0->google-generativeai) (5.5.2)\n",
            "Requirement already satisfied: pyasn1-modules>=0.2.1 in /usr/local/lib/python3.11/dist-packages (from google-auth>=2.15.0->google-generativeai) (0.4.2)\n",
            "Requirement already satisfied: rsa<5,>=3.1.4 in /usr/local/lib/python3.11/dist-packages (from google-auth>=2.15.0->google-generativeai) (4.9.1)\n",
            "Requirement already satisfied: httplib2<1.0.0,>=0.19.0 in /usr/local/lib/python3.11/dist-packages (from google-api-python-client->google-generativeai) (0.22.0)\n",
            "Requirement already satisfied: google-auth-httplib2<1.0.0,>=0.2.0 in /usr/local/lib/python3.11/dist-packages (from google-api-python-client->google-generativeai) (0.2.0)\n",
            "Requirement already satisfied: uritemplate<5,>=3.0.1 in /usr/local/lib/python3.11/dist-packages (from google-api-python-client->google-generativeai) (4.2.0)\n",
            "Requirement already satisfied: annotated-types>=0.6.0 in /usr/local/lib/python3.11/dist-packages (from pydantic->google-generativeai) (0.7.0)\n",
            "Requirement already satisfied: pydantic-core==2.33.2 in /usr/local/lib/python3.11/dist-packages (from pydantic->google-generativeai) (2.33.2)\n",
            "Requirement already satisfied: typing-inspection>=0.4.0 in /usr/local/lib/python3.11/dist-packages (from pydantic->google-generativeai) (0.4.1)\n",
            "Requirement already satisfied: grpcio<2.0.0,>=1.33.2 in /usr/local/lib/python3.11/dist-packages (from google-api-core[grpc]!=2.0.*,!=2.1.*,!=2.10.*,!=2.2.*,!=2.3.*,!=2.4.*,!=2.5.*,!=2.6.*,!=2.7.*,!=2.8.*,!=2.9.*,<3.0.0dev,>=1.34.1->google-ai-generativelanguage==0.6.15->google-generativeai) (1.74.0)\n",
            "Requirement already satisfied: grpcio-status<2.0.0,>=1.33.2 in /usr/local/lib/python3.11/dist-packages (from google-api-core[grpc]!=2.0.*,!=2.1.*,!=2.10.*,!=2.2.*,!=2.3.*,!=2.4.*,!=2.5.*,!=2.6.*,!=2.7.*,!=2.8.*,!=2.9.*,<3.0.0dev,>=1.34.1->google-ai-generativelanguage==0.6.15->google-generativeai) (1.71.2)\n",
            "Requirement already satisfied: pyparsing!=3.0.0,!=3.0.1,!=3.0.2,!=3.0.3,<4,>=2.4.2 in /usr/local/lib/python3.11/dist-packages (from httplib2<1.0.0,>=0.19.0->google-api-python-client->google-generativeai) (3.2.3)\n",
            "Requirement already satisfied: pyasn1<0.7.0,>=0.6.1 in /usr/local/lib/python3.11/dist-packages (from pyasn1-modules>=0.2.1->google-auth>=2.15.0->google-generativeai) (0.6.1)\n",
            "Requirement already satisfied: charset-normalizer<4,>=2 in /usr/local/lib/python3.11/dist-packages (from requests<3.0.0,>=2.18.0->google-api-core->google-generativeai) (3.4.2)\n",
            "Requirement already satisfied: idna<4,>=2.5 in /usr/local/lib/python3.11/dist-packages (from requests<3.0.0,>=2.18.0->google-api-core->google-generativeai) (3.10)\n",
            "Requirement already satisfied: urllib3<3,>=1.21.1 in /usr/local/lib/python3.11/dist-packages (from requests<3.0.0,>=2.18.0->google-api-core->google-generativeai) (2.5.0)\n",
            "Requirement already satisfied: certifi>=2017.4.17 in /usr/local/lib/python3.11/dist-packages (from requests<3.0.0,>=2.18.0->google-api-core->google-generativeai) (2025.7.14)\n"
          ]
        }
      ],
      "source": [
        "!pip install -U google-generativeai"
      ]
    },
    {
      "cell_type": "code",
      "execution_count": null,
      "metadata": {
        "id": "SX4MgAO_lAtl"
      },
      "outputs": [],
      "source": [
        "import os\n",
        "import re\n",
        "import numpy as np\n",
        "import torch\n",
        "import torch.nn.functional as F\n",
        "import timm\n",
        "import cv2\n",
        "from PIL import Image\n",
        "from torchvision import transforms\n",
        "from torchvision.models import resnet50, efficientnet_b0, densenet121\n",
        "from torchvision.models.densenet import DenseNet\n",
        "from google.colab import files, userdata\n",
        "import google.generativeai as genai\n",
        "from textwrap import fill"
      ]
    },
    {
      "cell_type": "code",
      "execution_count": null,
      "metadata": {
        "id": "Kl3yiBI9kqTs"
      },
      "outputs": [],
      "source": [
        "def apply_clahe(img):\n",
        "    lab = cv2.cvtColor(img, cv2.COLOR_RGB2LAB)\n",
        "    l, a, b = cv2.split(lab)\n",
        "    clahe = cv2.createCLAHE(clipLimit=2.0, tileGridSize=(8, 8))\n",
        "    cl = clahe.apply(l)\n",
        "    merged = cv2.merge((cl, a, b))\n",
        "\n",
        "    return cv2.cvtColor(merged, cv2.COLOR_LAB2RGB)"
      ]
    },
    {
      "cell_type": "code",
      "execution_count": null,
      "metadata": {
        "id": "4BFUCVS-ktOE"
      },
      "outputs": [],
      "source": [
        "class PatchedDenseNet(DenseNet):\n",
        "    def forward(self, x):\n",
        "        features = self.features(x).clone()\n",
        "        out = F.relu(features, inplace=True)\n",
        "        out = F.adaptive_avg_pool2d(out, (1, 1))\n",
        "        out = torch.flatten(out, 1)\n",
        "        return self.classifier(out)"
      ]
    },
    {
      "cell_type": "code",
      "execution_count": null,
      "metadata": {
        "id": "EiSEjBPOkwCa"
      },
      "outputs": [],
      "source": [
        "def ensemble_predict(img_tensor_512, img_tensor_224, models_dict):\n",
        "    probs = []\n",
        "    for name, model in models_dict.items():\n",
        "        input_tensor = img_tensor_224 if 'vit' in name or 'swin' in name else img_tensor_512\n",
        "        with torch.no_grad():\n",
        "            output = model(input_tensor.unsqueeze(0))\n",
        "            prob = F.softmax(output, dim=1)\n",
        "            probs.append(prob)\n",
        "    avg_prob = torch.mean(torch.stack(probs), dim=0)\n",
        "    pred_class = torch.argmax(avg_prob, dim=1).item()\n",
        "    return pred_class, avg_prob.cpu().numpy()"
      ]
    },
    {
      "cell_type": "code",
      "execution_count": null,
      "metadata": {
        "id": "Y8Pb9LUDkzAZ"
      },
      "outputs": [],
      "source": [
        "def generate_gradcam(model, input_tensor, target_class, device):\n",
        "    model.eval()\n",
        "    input_tensor = input_tensor.unsqueeze(0).to(device)\n",
        "    grads, activations = [], []\n",
        "\n",
        "    target_layer = model.features.denseblock4.denselayer16.conv2\n",
        "\n",
        "    def forward_hook(module, input, output): activations.append(output.clone())\n",
        "    def backward_hook(module, grad_input, grad_output): grads.append(grad_output[0].clone())\n",
        "\n",
        "    fw = target_layer.register_forward_hook(forward_hook)\n",
        "    bw = target_layer.register_full_backward_hook(backward_hook)\n",
        "\n",
        "    output = model(input_tensor)\n",
        "    loss = output[0, target_class]\n",
        "    model.zero_grad()\n",
        "    loss.backward()\n",
        "    fw.remove(); bw.remove()\n",
        "\n",
        "    grads = grads[0].squeeze().detach().cpu().numpy()\n",
        "    acts = activations[0].squeeze().detach().cpu().numpy()\n",
        "    weights = grads.mean(axis=(1, 2))\n",
        "    cam = np.sum(weights[:, None, None] * acts, axis=0)\n",
        "    cam = np.maximum(cam, 0)\n",
        "    cam = cv2.resize(cam, (512, 512))\n",
        "\n",
        "    return (cam - cam.min()) / (cam.max() + 1e-8)"
      ]
    },
    {
      "cell_type": "code",
      "execution_count": null,
      "metadata": {
        "id": "kbYaZVwpk2iV"
      },
      "outputs": [],
      "source": [
        "def overlay_cam(cam, image):\n",
        "    np_img = np.array(image.resize((512, 512))).astype(np.float32) / 255\n",
        "    heatmap = cv2.applyColorMap(np.uint8(255 * cam), cv2.COLORMAP_JET)\n",
        "    heatmap = cv2.cvtColor(heatmap, cv2.COLOR_BGR2RGB).astype(np.float32) / 255\n",
        "    overlay = np.clip(heatmap * 0.4 + np_img * 0.6, 0, 1)\n",
        "\n",
        "    return Image.fromarray(np.uint8(overlay * 255))"
      ]
    },
    {
      "cell_type": "code",
      "execution_count": null,
      "metadata": {
        "id": "y9tIlYa4k3ag"
      },
      "outputs": [],
      "source": [
        "def clean_gemini_output(text, width=100):\n",
        "    text = re.sub(r\"\\*+\", \"\", text)\n",
        "    text = re.sub(r\"\\n{2,}\", \"\\n\", text)\n",
        "\n",
        "    return fill(text.strip(), width=width)"
      ]
    },
    {
      "cell_type": "code",
      "execution_count": null,
      "metadata": {
        "id": "xKZi4fSKk6bh"
      },
      "outputs": [],
      "source": [
        "def generate_ophthalmology_report(img_id, prediction, confidence, gemini_text):\n",
        "    pred_label = f\"Likely {'Glaucomatous' if prediction == 'Glaucoma' else 'Non-Glaucomatous'}\"\n",
        "    verdict_match = re.search(r\"Final Verdict:\\s*(Likely [\\w\\-]+)\", gemini_text, re.IGNORECASE)\n",
        "    final_verdict = verdict_match.group(1).strip() if verdict_match else pred_label\n",
        "    explanation_cleaned = re.sub(r\"Final Verdict:\\s*Likely [\\w\\-]+\\s*\", \"\", gemini_text, flags=re.IGNORECASE).strip()\n",
        "    explanation = clean_gemini_output(explanation_cleaned)\n",
        "\n",
        "    report = f\"\"\"\n",
        "Simulated Ophthalmologist Report\n",
        "\n",
        "Image ID: {img_id}\n",
        "Classification (Model): {pred_label}\n",
        "Confidence Score: {round(confidence, 3)}\n",
        "\n",
        "Explanation: {explanation}\n",
        "\n",
        "Final Assessment: {final_verdict}\n",
        "\n",
        "Disclaimer: This report is generated with the assistance of artificial intelligence and should\n",
        "be considered a supplementary tool. It is not a substitute for professional medical diagnosis or advice.\n",
        "Clinical correlation and further ophthalmological evaluation are recommended.\n",
        "\"\"\".strip()\n",
        "\n",
        "    return report"
      ]
    },
    {
      "cell_type": "code",
      "execution_count": null,
      "metadata": {
        "id": "9lZ-iDd4j8LU"
      },
      "outputs": [],
      "source": [
        "class GlaucomaAnalysisPipeline:\n",
        "    def __init__(self):\n",
        "        self.device = torch.device(\"cuda\" if torch.cuda.is_available() else \"cpu\")\n",
        "        self.models = self.load_models()\n",
        "        genai.configure(api_key=userdata.get(\"GOOGLE_API_KEY\"))\n",
        "\n",
        "    def load_models(self):\n",
        "        model_paths = {\n",
        "            \"resnet50\": \"/content/resnet50_best.pth\",\n",
        "            \"efficientnet_b0\": \"/content/efficientnet_b0_best.pth\",\n",
        "            \"densenet121\": \"/content/densenet121_best.pth\",\n",
        "            \"vit_base_patch16_224\": \"/content/vit_base_patch16_224_best.pth\",\n",
        "            \"swin_base_patch4_window7_224\": \"/content/swin_base_patch4_window7_224_best.pth\"\n",
        "        }\n",
        "\n",
        "        models = {\n",
        "            \"resnet50\": resnet50(pretrained=False, num_classes=2),\n",
        "            \"efficientnet_b0\": efficientnet_b0(pretrained=False, num_classes=2),\n",
        "            \"densenet121\": PatchedDenseNet(32, (6, 12, 24, 16), 64, 4, 0, 2),\n",
        "            \"vit_base_patch16_224\": timm.create_model(\"vit_base_patch16_224\", pretrained=False, num_classes=2),\n",
        "            \"swin_base_patch4_window7_224\": timm.create_model(\"swin_base_patch4_window7_224\", pretrained=False, num_classes=2),\n",
        "        }\n",
        "\n",
        "        for name, model in models.items():\n",
        "            model.load_state_dict(torch.load(model_paths[name], map_location=self.device))\n",
        "            model.eval().to(self.device)\n",
        "\n",
        "        return models\n",
        "\n",
        "    def run(self):\n",
        "        uploaded = files.upload()\n",
        "        img_path = list(uploaded.keys())[0]\n",
        "        img_id = os.path.splitext(os.path.basename(img_path))[0]\n",
        "        orig_image = Image.open(img_path).convert(\"RGB\")\n",
        "\n",
        "        img_np = np.array(orig_image)\n",
        "        clahe_np = apply_clahe(img_np)\n",
        "        clahe_img = Image.fromarray(clahe_np)\n",
        "\n",
        "        transform_512 = transforms.Compose([\n",
        "            transforms.Resize((512, 512)),\n",
        "            transforms.ToTensor(),\n",
        "            transforms.Normalize([0.485, 0.456, 0.406], [0.229, 0.224, 0.225])\n",
        "        ])\n",
        "        transform_224 = transforms.Compose([\n",
        "            transforms.Resize((224, 224)),\n",
        "            transforms.ToTensor(),\n",
        "            transforms.Normalize([0.485, 0.456, 0.406], [0.229, 0.224, 0.225])\n",
        "        ])\n",
        "\n",
        "        img_tensor_512 = transform_512(clahe_img).to(self.device)\n",
        "        img_tensor_224 = transform_224(clahe_img).to(self.device)\n",
        "\n",
        "        class_names = ['Normal', 'Glaucoma']\n",
        "        predicted_class, prob_array = ensemble_predict(img_tensor_512, img_tensor_224, self.models)\n",
        "        prediction = class_names[predicted_class]\n",
        "        confidence = float(prob_array[0][predicted_class])\n",
        "\n",
        "        print(f\"Prediction: {prediction}\")\n",
        "        print(f\"Confidence: {confidence:.3f}\")\n",
        "\n",
        "        cam = generate_gradcam(self.models['densenet121'], img_tensor_512, predicted_class, self.device)\n",
        "        gradcam_image = overlay_cam(cam, orig_image)\n",
        "\n",
        "        combined = Image.new(\"RGB\", (1024, 512))\n",
        "        combined.paste(orig_image.resize((512, 512)), (0, 0))\n",
        "        combined.paste(gradcam_image, (512, 0))\n",
        "        combined_path = \"merged_densenet121.jpg\"\n",
        "        combined.save(combined_path)\n",
        "        combined.show()\n",
        "\n",
        "        prompt = f\"\"\"\n",
        "Hello Gemini, you are simulating an ophthalmologist specialized in glaucoma detection using fundus photographs.\n",
        "\n",
        "The ensemble model prediction is: **{prediction}**\n",
        "The confidence score for this prediction is: **{confidence:.3f}**\n",
        "\n",
        "Instructions:\n",
        "\n",
        "1. Analyze the attached Grad-CAM overlay image, focusing on the regions it highlights.\n",
        "2. Assess for glaucomatous signs: increased cup-to-disc ratio (CDR), neuroretinal rim thinning, optic disc hemorrhages.\n",
        "3. Review the rest of the fundus for additional signs that support or contradict glaucoma.\n",
        "4. Based on the findings, provide a clear final classification: 'Likely Glaucomatous' or 'Likely Non-Glaucomatous'.\n",
        "5. Explain the reasoning behind your classification using concise clinical language.\n",
        "6. Include a brief statement if your verdict differs from the model's prediction.\n",
        "7. End with:\n",
        "    Final Verdict: Likely Glaucomatous\n",
        "    or\n",
        "    Final Verdict: Likely Non-Glaucomatous\n",
        "\n",
        "The entire response **must fit within 512 tokens**. Be clear, medically precise, and avoid unnecessary repetition.\n",
        "\"\"\"\n",
        "\n",
        "        with open(combined_path, \"rb\") as f:\n",
        "            image_data = f.read()\n",
        "\n",
        "        model_gemini = genai.GenerativeModel(\"gemini-1.5-flash\")\n",
        "        response = model_gemini.generate_content(\n",
        "            [prompt, {\"mime_type\": \"image/jpeg\", \"data\": image_data}],\n",
        "            generation_config={\"max_output_tokens\": 512, \"temperature\": 0.7}\n",
        "        )\n",
        "\n",
        "        final_report = generate_ophthalmology_report(img_id, prediction, confidence, response.text)\n",
        "\n",
        "        return final_report"
      ]
    },
    {
      "cell_type": "code",
      "execution_count": null,
      "metadata": {
        "colab": {
          "base_uri": "https://localhost:8080/"
        },
        "collapsed": true,
        "id": "FUCy4DULj90t",
        "outputId": "157b54a6-4944-4cc2-bbee-93e998c1899c"
      },
      "outputs": [
        {
          "name": "stderr",
          "output_type": "stream",
          "text": [
            "/usr/local/lib/python3.11/dist-packages/torchvision/models/_utils.py:208: UserWarning: The parameter 'pretrained' is deprecated since 0.13 and may be removed in the future, please use 'weights' instead.\n",
            "  warnings.warn(\n",
            "/usr/local/lib/python3.11/dist-packages/torchvision/models/_utils.py:223: UserWarning: Arguments other than a weight enum or `None` for 'weights' are deprecated since 0.13 and may be removed in the future. The current behavior is equivalent to passing `weights=None`.\n",
            "  warnings.warn(msg)\n"
          ]
        }
      ],
      "source": [
        "pipeline = GlaucomaAnalysisPipeline()"
      ]
    },
    {
      "cell_type": "code",
      "execution_count": null,
      "metadata": {
        "colab": {
          "base_uri": "https://localhost:8080/",
          "height": 55
        },
        "id": "Mj5nCRC2kC4u",
        "outputId": "f5df38d2-274e-415a-aeec-789604faefdc"
      },
      "outputs": [
        {
          "data": {
            "text/html": [
              "\n",
              "     <input type=\"file\" id=\"files-0497829a-9c68-4ddf-be88-cc2d254d84c6\" name=\"files[]\" multiple disabled\n",
              "        style=\"border:none\" />\n",
              "     <output id=\"result-0497829a-9c68-4ddf-be88-cc2d254d84c6\">\n",
              "      Upload widget is only available when the cell has been executed in the\n",
              "      current browser session. Please rerun this cell to enable.\n",
              "      </output>\n",
              "      <script>// Copyright 2017 Google LLC\n",
              "//\n",
              "// Licensed under the Apache License, Version 2.0 (the \"License\");\n",
              "// you may not use this file except in compliance with the License.\n",
              "// You may obtain a copy of the License at\n",
              "//\n",
              "//      http://www.apache.org/licenses/LICENSE-2.0\n",
              "//\n",
              "// Unless required by applicable law or agreed to in writing, software\n",
              "// distributed under the License is distributed on an \"AS IS\" BASIS,\n",
              "// WITHOUT WARRANTIES OR CONDITIONS OF ANY KIND, either express or implied.\n",
              "// See the License for the specific language governing permissions and\n",
              "// limitations under the License.\n",
              "\n",
              "/**\n",
              " * @fileoverview Helpers for google.colab Python module.\n",
              " */\n",
              "(function(scope) {\n",
              "function span(text, styleAttributes = {}) {\n",
              "  const element = document.createElement('span');\n",
              "  element.textContent = text;\n",
              "  for (const key of Object.keys(styleAttributes)) {\n",
              "    element.style[key] = styleAttributes[key];\n",
              "  }\n",
              "  return element;\n",
              "}\n",
              "\n",
              "// Max number of bytes which will be uploaded at a time.\n",
              "const MAX_PAYLOAD_SIZE = 100 * 1024;\n",
              "\n",
              "function _uploadFiles(inputId, outputId) {\n",
              "  const steps = uploadFilesStep(inputId, outputId);\n",
              "  const outputElement = document.getElementById(outputId);\n",
              "  // Cache steps on the outputElement to make it available for the next call\n",
              "  // to uploadFilesContinue from Python.\n",
              "  outputElement.steps = steps;\n",
              "\n",
              "  return _uploadFilesContinue(outputId);\n",
              "}\n",
              "\n",
              "// This is roughly an async generator (not supported in the browser yet),\n",
              "// where there are multiple asynchronous steps and the Python side is going\n",
              "// to poll for completion of each step.\n",
              "// This uses a Promise to block the python side on completion of each step,\n",
              "// then passes the result of the previous step as the input to the next step.\n",
              "function _uploadFilesContinue(outputId) {\n",
              "  const outputElement = document.getElementById(outputId);\n",
              "  const steps = outputElement.steps;\n",
              "\n",
              "  const next = steps.next(outputElement.lastPromiseValue);\n",
              "  return Promise.resolve(next.value.promise).then((value) => {\n",
              "    // Cache the last promise value to make it available to the next\n",
              "    // step of the generator.\n",
              "    outputElement.lastPromiseValue = value;\n",
              "    return next.value.response;\n",
              "  });\n",
              "}\n",
              "\n",
              "/**\n",
              " * Generator function which is called between each async step of the upload\n",
              " * process.\n",
              " * @param {string} inputId Element ID of the input file picker element.\n",
              " * @param {string} outputId Element ID of the output display.\n",
              " * @return {!Iterable<!Object>} Iterable of next steps.\n",
              " */\n",
              "function* uploadFilesStep(inputId, outputId) {\n",
              "  const inputElement = document.getElementById(inputId);\n",
              "  inputElement.disabled = false;\n",
              "\n",
              "  const outputElement = document.getElementById(outputId);\n",
              "  outputElement.innerHTML = '';\n",
              "\n",
              "  const pickedPromise = new Promise((resolve) => {\n",
              "    inputElement.addEventListener('change', (e) => {\n",
              "      resolve(e.target.files);\n",
              "    });\n",
              "  });\n",
              "\n",
              "  const cancel = document.createElement('button');\n",
              "  inputElement.parentElement.appendChild(cancel);\n",
              "  cancel.textContent = 'Cancel upload';\n",
              "  const cancelPromise = new Promise((resolve) => {\n",
              "    cancel.onclick = () => {\n",
              "      resolve(null);\n",
              "    };\n",
              "  });\n",
              "\n",
              "  // Wait for the user to pick the files.\n",
              "  const files = yield {\n",
              "    promise: Promise.race([pickedPromise, cancelPromise]),\n",
              "    response: {\n",
              "      action: 'starting',\n",
              "    }\n",
              "  };\n",
              "\n",
              "  cancel.remove();\n",
              "\n",
              "  // Disable the input element since further picks are not allowed.\n",
              "  inputElement.disabled = true;\n",
              "\n",
              "  if (!files) {\n",
              "    return {\n",
              "      response: {\n",
              "        action: 'complete',\n",
              "      }\n",
              "    };\n",
              "  }\n",
              "\n",
              "  for (const file of files) {\n",
              "    const li = document.createElement('li');\n",
              "    li.append(span(file.name, {fontWeight: 'bold'}));\n",
              "    li.append(span(\n",
              "        `(${file.type || 'n/a'}) - ${file.size} bytes, ` +\n",
              "        `last modified: ${\n",
              "            file.lastModifiedDate ? file.lastModifiedDate.toLocaleDateString() :\n",
              "                                    'n/a'} - `));\n",
              "    const percent = span('0% done');\n",
              "    li.appendChild(percent);\n",
              "\n",
              "    outputElement.appendChild(li);\n",
              "\n",
              "    const fileDataPromise = new Promise((resolve) => {\n",
              "      const reader = new FileReader();\n",
              "      reader.onload = (e) => {\n",
              "        resolve(e.target.result);\n",
              "      };\n",
              "      reader.readAsArrayBuffer(file);\n",
              "    });\n",
              "    // Wait for the data to be ready.\n",
              "    let fileData = yield {\n",
              "      promise: fileDataPromise,\n",
              "      response: {\n",
              "        action: 'continue',\n",
              "      }\n",
              "    };\n",
              "\n",
              "    // Use a chunked sending to avoid message size limits. See b/62115660.\n",
              "    let position = 0;\n",
              "    do {\n",
              "      const length = Math.min(fileData.byteLength - position, MAX_PAYLOAD_SIZE);\n",
              "      const chunk = new Uint8Array(fileData, position, length);\n",
              "      position += length;\n",
              "\n",
              "      const base64 = btoa(String.fromCharCode.apply(null, chunk));\n",
              "      yield {\n",
              "        response: {\n",
              "          action: 'append',\n",
              "          file: file.name,\n",
              "          data: base64,\n",
              "        },\n",
              "      };\n",
              "\n",
              "      let percentDone = fileData.byteLength === 0 ?\n",
              "          100 :\n",
              "          Math.round((position / fileData.byteLength) * 100);\n",
              "      percent.textContent = `${percentDone}% done`;\n",
              "\n",
              "    } while (position < fileData.byteLength);\n",
              "  }\n",
              "\n",
              "  // All done.\n",
              "  yield {\n",
              "    response: {\n",
              "      action: 'complete',\n",
              "    }\n",
              "  };\n",
              "}\n",
              "\n",
              "scope.google = scope.google || {};\n",
              "scope.google.colab = scope.google.colab || {};\n",
              "scope.google.colab._files = {\n",
              "  _uploadFiles,\n",
              "  _uploadFilesContinue,\n",
              "};\n",
              "})(self);\n",
              "</script> "
            ],
            "text/plain": [
              "<IPython.core.display.HTML object>"
            ]
          },
          "metadata": {},
          "output_type": "display_data"
        }
      ],
      "source": [
        "report = pipeline.run()"
      ]
    },
    {
      "cell_type": "code",
      "execution_count": null,
      "metadata": {
        "colab": {
          "base_uri": "https://localhost:8080/"
        },
        "id": "uRRAu-TqkEYq",
        "outputId": "d3fe5e9d-d93e-4bca-b309-bebf764b637c"
      },
      "outputs": [
        {
          "name": "stdout",
          "output_type": "stream",
          "text": [
            "Simulated Ophthalmologist Report\n",
            "\n",
            "Image ID: drishtiGS_095\n",
            "Classification (Model): Likely Non-Glaucomatous\n",
            "Confidence Score: 0.988\n",
            "\n",
            "Explanation: The Grad-CAM overlay highlights the optic disc.  Upon examination of the fundus photograph, the cup-\n",
            "to-disc ratio appears slightly increased, although precise measurement is impossible without\n",
            "calibrated imaging.  There is subtle suggestion of neuroretinal rim thinning, particularly in the\n",
            "inferior aspect. No hemorrhages are evident. The overall appearance of the neuroretinal rim is not\n",
            "significantly altered.  The peripheral retina appears unremarkable. While the CDR increase and\n",
            "subtle thinning are suggestive of early glaucoma, they are not definitive.  The high confidence\n",
            "score from the model (0.988) suggests a normal finding, which contrasts with my assessment.\n",
            "Considering the subtle findings and the model's strong prediction, I lean towards a non-glaucomatous\n",
            "classification.  Further investigation, including visual field testing and additional imaging, is\n",
            "strongly recommended to definitively rule out glaucoma.\n",
            "\n",
            "Final Assessment: Likely Non-Glaucomatous\n",
            "\n",
            "Disclaimer: This report is generated with the assistance of artificial intelligence and should\n",
            "be considered a supplementary tool. It is not a substitute for professional medical diagnosis or advice.\n",
            "Clinical correlation and further ophthalmological evaluation are recommended.\n"
          ]
        }
      ],
      "source": [
        "print(report)"
      ]
    }
  ],
  "metadata": {
    "colab": {
      "provenance": []
    },
    "kernelspec": {
      "display_name": "Python 3",
      "name": "python3"
    },
    "language_info": {
      "name": "python"
    }
  },
  "nbformat": 4,
  "nbformat_minor": 0
}